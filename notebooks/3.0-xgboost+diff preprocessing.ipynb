{
 "cells": [
  {
   "cell_type": "code",
   "execution_count": 1,
   "metadata": {},
   "outputs": [],
   "source": [
    "import pandas as pd\n",
    "import numpy as np\n",
    "import matplotlib.pyplot as plt\n",
    "import seaborn as sns\n",
    "from sklearn.preprocessing import MinMaxScaler, OrdinalEncoder\n",
    "\n",
    "%matplotlib inline"
   ]
  },
  {
   "cell_type": "code",
   "execution_count": 2,
   "metadata": {},
   "outputs": [],
   "source": [
    "df = pd.read_csv('../data/raw/training_v2.csv')"
   ]
  },
  {
   "cell_type": "code",
   "execution_count": 3,
   "metadata": {},
   "outputs": [],
   "source": [
    "df.drop('encounter_id', axis=1, inplace=True)\n",
    "df.drop('patient_id', axis=1, inplace=True)\n",
    "df.drop('hospital_id', axis=1, inplace=True)\n",
    "df.drop('icu_id', axis=1, inplace=True)"
   ]
  },
  {
   "cell_type": "code",
   "execution_count": 4,
   "metadata": {},
   "outputs": [],
   "source": [
    "col_list = []\n",
    "with open(\"../data/raw/del_columns.txt\", \"r\") as f:\n",
    "    for line in f:\n",
    "        col_list.append(line[:-1])\n",
    "        \n",
    "df.drop(columns=col_list, inplace=True, axis=1)"
   ]
  },
  {
   "cell_type": "code",
   "execution_count": 5,
   "metadata": {},
   "outputs": [
    {
     "data": {
      "text/plain": [
       "(91713, 93)"
      ]
     },
     "execution_count": 5,
     "metadata": {},
     "output_type": "execute_result"
    }
   ],
   "source": [
    "df.shape"
   ]
  },
  {
   "cell_type": "code",
   "execution_count": 6,
   "metadata": {},
   "outputs": [
    {
     "name": "stdout",
     "output_type": "stream",
     "text": [
      "0\n"
     ]
    }
   ],
   "source": [
    "df['gender'] = df['gender'].fillna(df['gender'].value_counts().index[0])\n",
    "print(df['gender'].isnull().sum())\n",
    "df['gender'] = df['gender'].map({'M': 0, 'F': 1})"
   ]
  },
  {
   "cell_type": "code",
   "execution_count": 7,
   "metadata": {},
   "outputs": [
    {
     "data": {
      "text/plain": [
       "Caucasian           70684\n",
       "African American     9547\n",
       "Other/Unknown        4374\n",
       "Hispanic             3796\n",
       "Asian                1129\n",
       "Native American       788\n",
       "Name: ethnicity, dtype: int64"
      ]
     },
     "execution_count": 7,
     "metadata": {},
     "output_type": "execute_result"
    }
   ],
   "source": [
    "df['ethnicity'].value_counts()"
   ]
  },
  {
   "cell_type": "code",
   "execution_count": 8,
   "metadata": {},
   "outputs": [
    {
     "name": "stdout",
     "output_type": "stream",
     "text": [
      "0\n"
     ]
    }
   ],
   "source": [
    "df['ethnicity'] = df['ethnicity'].fillna(\"Other/Unknown\")\n",
    "print(df['ethnicity'].isnull().sum())"
   ]
  },
  {
   "cell_type": "code",
   "execution_count": 9,
   "metadata": {},
   "outputs": [
    {
     "data": {
      "text/plain": [
       "2    29709\n",
       "4    23347\n",
       "3    20645\n",
       "1    18012\n",
       "Name: age, dtype: int64"
      ]
     },
     "execution_count": 9,
     "metadata": {},
     "output_type": "execute_result"
    }
   ],
   "source": [
    "df.age.fillna(int(df.age.mean()), inplace=True)\n",
    "\n",
    "d = {range(1, 50): 1, range(50, 65): 2, range(65, 75): 3, range(75, 100): 4}\n",
    "\n",
    "df.age = df.age.apply(lambda x: next((v for k, v in d.items() if x in k), 0))\n",
    "df.age.value_counts()"
   ]
  },
  {
   "cell_type": "code",
   "execution_count": 10,
   "metadata": {},
   "outputs": [],
   "source": [
    "df.dropna(subset=['heart_rate_apache', 'temp_apache'], inplace=True)"
   ]
  },
  {
   "cell_type": "code",
   "execution_count": 11,
   "metadata": {},
   "outputs": [
    {
     "data": {
      "text/plain": [
       "2    44776\n",
       "1    20398\n",
       "3    18899\n",
       "4     3481\n",
       "Name: heart_rate_apache, dtype: int64"
      ]
     },
     "execution_count": 11,
     "metadata": {},
     "output_type": "execute_result"
    }
   ],
   "source": [
    "d = {range(25, 80): 1, range(80, 120): 2, range(120, 150): 3, range(150, 180): 4, range(180, 200): 5}\n",
    "\n",
    "df.heart_rate_apache = df.heart_rate_apache.apply(lambda x: next((v for k, v in d.items() if x in k), 0))\n",
    "df.heart_rate_apache.value_counts()"
   ]
  },
  {
   "cell_type": "code",
   "execution_count": 12,
   "metadata": {},
   "outputs": [
    {
     "data": {
      "text/plain": [
       "0    85299\n",
       "1     2255\n",
       "Name: temp_apache, dtype: int64"
      ]
     },
     "execution_count": 12,
     "metadata": {},
     "output_type": "execute_result"
    }
   ],
   "source": [
    "d = {range(int(df.temp_apache.min()), 37): 0, range(37, int(df.temp_apache.max())+1): 1}\n",
    "\n",
    "df.temp_apache = df.temp_apache.apply(lambda x: next((v for k, v in d.items() if x in k), 0))\n",
    "df.temp_apache.value_counts()"
   ]
  },
  {
   "cell_type": "code",
   "execution_count": 13,
   "metadata": {},
   "outputs": [
    {
     "data": {
      "text/plain": [
       "0"
      ]
     },
     "execution_count": 13,
     "metadata": {},
     "output_type": "execute_result"
    }
   ],
   "source": [
    "df.urineoutput_apache.fillna(df.urineoutput_apache.mean(), inplace=True)\n",
    "df.urineoutput_apache.isna().sum()"
   ]
  },
  {
   "cell_type": "code",
   "execution_count": 14,
   "metadata": {},
   "outputs": [
    {
     "data": {
      "text/plain": [
       "count    87554.000000\n",
       "mean         0.199557\n",
       "std          0.114528\n",
       "min          0.000000\n",
       "25%          0.167427\n",
       "50%          0.199557\n",
       "75%          0.199557\n",
       "max          1.000000\n",
       "Name: urineoutput_apache, dtype: float64"
      ]
     },
     "execution_count": 14,
     "metadata": {},
     "output_type": "execute_result"
    }
   ],
   "source": [
    "# normalize urineoutput_apache\n",
    "x = df[['urineoutput_apache']].values.astype(float)\n",
    "min_max_scaler = MinMaxScaler()\n",
    "x_scaled = min_max_scaler.fit_transform(x)\n",
    "df.urineoutput_apache = x_scaled\n",
    "\n",
    "df.urineoutput_apache.describe()"
   ]
  },
  {
   "cell_type": "code",
   "execution_count": 15,
   "metadata": {},
   "outputs": [
    {
     "data": {
      "text/plain": [
       "(87554, 93)"
      ]
     },
     "execution_count": 15,
     "metadata": {},
     "output_type": "execute_result"
    }
   ],
   "source": [
    "df.shape"
   ]
  },
  {
   "cell_type": "code",
   "execution_count": 16,
   "metadata": {},
   "outputs": [
    {
     "data": {
      "text/plain": [
       "Index(['ethnicity', 'apache_3j_bodysystem', 'apache_2_bodysystem'], dtype='object')"
      ]
     },
     "execution_count": 16,
     "metadata": {},
     "output_type": "execute_result"
    }
   ],
   "source": [
    "df.columns[df.dtypes == \"object\"]"
   ]
  },
  {
   "cell_type": "code",
   "execution_count": 17,
   "metadata": {},
   "outputs": [
    {
     "name": "stdout",
     "output_type": "stream",
     "text": [
      "apache_3j_bodysystem groups:\n",
      "\n",
      "Cardiovascular          28743\n",
      "Neurological            11575\n",
      "Sepsis                  11377\n",
      "Respiratory             11141\n",
      "Gastrointestinal         8712\n",
      "Metabolic                7308\n",
      "Trauma                   3781\n",
      "Genitourinary            2066\n",
      "Musculoskeletal/Skin     1105\n",
      "Hematological             607\n",
      "Gynecological             300\n",
      "Name: apache_3j_bodysystem, dtype: int64\n"
     ]
    }
   ],
   "source": [
    "print(\"apache_3j_bodysystem groups:\\n\\n{}\".format(df.apache_3j_bodysystem.value_counts()))"
   ]
  },
  {
   "cell_type": "code",
   "execution_count": 18,
   "metadata": {},
   "outputs": [
    {
     "name": "stdout",
     "output_type": "stream",
     "text": [
      "ethnicity groups:\n",
      "\n",
      "Caucasian           67892\n",
      "African American     8973\n",
      "Other/Unknown        5306\n",
      "Hispanic             3637\n",
      "Asian                 976\n",
      "Native American       770\n",
      "Name: ethnicity, dtype: int64\n"
     ]
    }
   ],
   "source": [
    "print(\"ethnicity groups:\\n\\n{}\".format(df.ethnicity.value_counts()))"
   ]
  },
  {
   "cell_type": "code",
   "execution_count": 19,
   "metadata": {},
   "outputs": [],
   "source": [
    "und_diag = {\"Undefined diagnoses\": \"Undefined Diagnoses\"}\n",
    "df[\"apache_2_bodysystem\"].replace(und_diag, inplace = True)"
   ]
  },
  {
   "cell_type": "code",
   "execution_count": 20,
   "metadata": {},
   "outputs": [
    {
     "name": "stdout",
     "output_type": "stream",
     "text": [
      "apache_2_bodysystem groups:\n",
      "\n",
      "Cardiovascular         37229\n",
      "Neurologic             11575\n",
      "Respiratory            11141\n",
      "Gastrointestinal        8712\n",
      "Metabolic               7308\n",
      "Undefined Diagnoses     4017\n",
      "Trauma                  3781\n",
      "Renal/Genitourinary     2345\n",
      "Haematologic             607\n",
      "Name: apache_2_bodysystem, dtype: int64\n"
     ]
    }
   ],
   "source": [
    "print(\"apache_2_bodysystem groups:\\n\\n{}\".format(df.apache_2_bodysystem.value_counts()))"
   ]
  },
  {
   "cell_type": "code",
   "execution_count": 21,
   "metadata": {},
   "outputs": [
    {
     "name": "stdout",
     "output_type": "stream",
     "text": [
      "apache_2_bodysystem NaN: 839\n",
      "apache_3j_bodysystem NaN: 839\n",
      "ethnicity NaN: 0\n"
     ]
    }
   ],
   "source": [
    "print(\"apache_2_bodysystem NaN: {}\".format(df.apache_2_bodysystem.isna().sum()))\n",
    "print(\"apache_3j_bodysystem NaN: {}\".format(df.apache_3j_bodysystem.isna().sum()))\n",
    "print(\"ethnicity NaN: {}\".format(df.ethnicity.isna().sum()))"
   ]
  },
  {
   "cell_type": "code",
   "execution_count": 23,
   "metadata": {},
   "outputs": [],
   "source": [
    "enc = OrdinalEncoder()\n",
    "cat_columns = ['ethnicity', 'apache_3j_bodysystem', 'apache_2_bodysystem']\n",
    "#reshape_df = np.array(df).reshape(-1, 1)\n",
    "#for col in cat_columns:\n",
    "#    df[col] = enc.fit_transform(reshape_df[col].astype('str'))"
   ]
  }
 ],
 "metadata": {
  "kernelspec": {
   "display_name": "Python 3",
   "language": "python",
   "name": "python3"
  },
  "language_info": {
   "codemirror_mode": {
    "name": "ipython",
    "version": 3
   },
   "file_extension": ".py",
   "mimetype": "text/x-python",
   "name": "python",
   "nbconvert_exporter": "python",
   "pygments_lexer": "ipython3",
   "version": "3.6.10"
  }
 },
 "nbformat": 4,
 "nbformat_minor": 4
}
