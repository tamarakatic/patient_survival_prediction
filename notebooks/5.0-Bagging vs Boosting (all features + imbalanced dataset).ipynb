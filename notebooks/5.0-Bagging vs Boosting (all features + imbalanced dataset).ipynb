{
 "cells": [
  {
   "cell_type": "code",
   "execution_count": 1,
   "metadata": {},
   "outputs": [],
   "source": [
    "import pandas as pd\n",
    "import numpy as np\n",
    "import matplotlib.pyplot as plt\n",
    "\n",
    "from sklearn.tree import DecisionTreeClassifier\n",
    "from sklearn.ensemble import RandomForestClassifier\n",
    "from imblearn.ensemble import BalancedBaggingClassifier\n",
    "from sklearn.ensemble import GradientBoostingClassifier\n",
    "\n",
    "from sklearn.metrics import accuracy_score\n",
    "from sklearn.metrics import precision_score\n",
    "from sklearn.metrics import recall_score\n",
    "from sklearn.metrics import roc_auc_score\n",
    "from sklearn.metrics import average_precision_score\n",
    "from sklearn.metrics import f1_score\n",
    "from sklearn.metrics import auc, roc_curve\n",
    "from sklearn.metrics import precision_recall_curve\n",
    "\n",
    "from sklearn.model_selection import train_test_split\n",
    "\n",
    "%matplotlib inline"
   ]
  },
  {
   "cell_type": "code",
   "execution_count": 2,
   "metadata": {},
   "outputs": [],
   "source": [
    "# test\n",
    "def df_has_only_numeric_columns(df):\n",
    "    assert df.apply(lambda s: pd.to_numeric(s, errors='coerce').notnull().all()).all()"
   ]
  },
  {
   "cell_type": "code",
   "execution_count": 3,
   "metadata": {},
   "outputs": [],
   "source": [
    "def preprocess_object_features():\n",
    "    df_tr = pd.read_csv(\"../data/raw/training_v2.csv\")\n",
    "\n",
    "    df_train = df_tr.copy()\n",
    "\n",
    "    # drop readmission_status as it has all 0\n",
    "    df_train.drop('readmission_status', axis=1, inplace=True)\n",
    "    df_train.drop('encounter_id', axis=1, inplace=True)\n",
    "    df_train.drop('patient_id', axis=1, inplace=True)\n",
    "    df_train.drop('hospital_id', axis=1, inplace=True)\n",
    "    df_train.drop('icu_id', axis=1, inplace=True)\n",
    "\n",
    "    # 25 genders are nan => replace them with 'M'\n",
    "    df_train['gender'] = df_train['gender'].fillna(df_train['gender'].value_counts().index[0])\n",
    "    df_train['gender'] = df_train['gender'].map({'M': 0, 'F': 1})\n",
    "    \n",
    "    df_train['ethnicity'] = df_train['ethnicity'].fillna(\"Other/Unknown\")\n",
    "        \n",
    "    df_train['hospital_admit_source'] = df_train['hospital_admit_source'].fillna(\"Other\")\n",
    "\n",
    "    df_train['icu_stay_type'] = df_train['icu_stay_type'].fillna(df_train['icu_stay_type'].value_counts().index[0])\n",
    "    df_train['icu_stay_type'] = df_train['icu_stay_type'].map({'admit': 0, 'transfer': 1})\n",
    "    \n",
    "    # remove outliers\n",
    "    df_train = df_train[df_train[\"pre_icu_los_days\"] < 88]\n",
    "    df_train[\"pre_icu_los_days\"] = np.maximum(0, df_train[\"pre_icu_los_days\"])\n",
    "    \n",
    "    und_diag = {\"Undefined diagnoses\": \"Undefined Diagnoses\"}\n",
    "    df_train[\"apache_2_bodysystem\"].replace(und_diag, inplace = True)\n",
    "\n",
    "    cat_columns = [\"ethnicity\", \"hospital_admit_source\",\n",
    "                   \"icu_admit_source\", \"icu_type\",\n",
    "                   \"apache_3j_bodysystem\", \"apache_2_bodysystem\"]\n",
    "\n",
    "    df_train = pd.get_dummies(df_train, columns=cat_columns)\n",
    "\n",
    "    df_train.fillna(df_train.mean(), inplace=True)\n",
    "\n",
    "\n",
    "    df_has_only_numeric_columns(df_train)\n",
    "\n",
    "    return df_train"
   ]
  },
  {
   "cell_type": "code",
   "execution_count": 4,
   "metadata": {},
   "outputs": [],
   "source": [
    "def evaluate(y_true, scores, preds):\n",
    "    acc = accuracy_score(y_true, preds)\n",
    "    precision = precision_score(y_true, preds)\n",
    "    recall = recall_score(y_true, preds)\n",
    "    f1 = f1_score(y_true, preds)\n",
    "    \n",
    "    roc_auc = roc_auc_score(y_true, scores)\n",
    "    auprc = average_precision_score(y_true, scores)\n",
    "    \n",
    "    print(\"Accuracy:  {:.4f}\".format(acc))\n",
    "    print(\"Precision: {:.4f}\".format(precision))\n",
    "    print(\"Recall:    {:.4f}\".format(recall))\n",
    "    print(\"F1-score:  {:.4f}\".format(f1))\n",
    "    print(\"ROCAUC:    {:.4f}\".format(roc_auc))\n",
    "    print(\"AUPRC:     {:.4f}\".format(auprc))"
   ]
  },
  {
   "cell_type": "code",
   "execution_count": 5,
   "metadata": {},
   "outputs": [],
   "source": [
    "def plot_roc_curve(y_test, preds):\n",
    "    fpr, tpr, threshold = roc_curve(y_test, preds)\n",
    "    roc_auc = auc(fpr, tpr)\n",
    "    \n",
    "    plt.title('Receiver Operating Characteristic')\n",
    "    plt.plot(fpr, tpr, 'b', label = 'AUC = %0.2f' % roc_auc)\n",
    "    plt.legend(loc = 'lower right')\n",
    "    plt.plot([0, 1], [0, 1],'r--')\n",
    "    plt.xlim([0, 1])\n",
    "    plt.ylim([0, 1])\n",
    "    plt.ylabel('True Positive Rate')\n",
    "    plt.xlabel('False Positive Rate')\n",
    "    plt.show()"
   ]
  },
  {
   "cell_type": "code",
   "execution_count": 6,
   "metadata": {},
   "outputs": [],
   "source": [
    "def plot_precision_recall_curve(y_test, probs):\n",
    "    precision, recall, threshold = precision_recall_curve(y_test, probs)\n",
    "    auc_score = auc(recall, precision)\n",
    "    \n",
    "    plt.title('2-class Precision-Recall curve')\n",
    "    plt.plot([0, 1], [0.5, 0.5], linestyle='--')\n",
    "    plt.plot(recall, precision, 'r', marker='.')\n",
    "    plt.show()"
   ]
  },
  {
   "cell_type": "code",
   "execution_count": 7,
   "metadata": {},
   "outputs": [],
   "source": [
    "clean_df = preprocess_object_features()\n",
    "\n",
    "y = clean_df.hospital_death\n",
    "X = clean_df.drop(columns=\"hospital_death\")\n",
    "\n",
    "X_train, X_test, y_train, y_test = train_test_split(X, y, test_size=0.33, random_state=42, stratify=y)"
   ]
  },
  {
   "cell_type": "code",
   "execution_count": 8,
   "metadata": {},
   "outputs": [
    {
     "data": {
      "text/plain": [
       "RandomForestClassifier(bootstrap=True, ccp_alpha=0.0, class_weight=None,\n",
       "                       criterion='gini', max_depth=None, max_features='auto',\n",
       "                       max_leaf_nodes=None, max_samples=None,\n",
       "                       min_impurity_decrease=0.0, min_impurity_split=None,\n",
       "                       min_samples_leaf=1, min_samples_split=2,\n",
       "                       min_weight_fraction_leaf=0.0, n_estimators=100,\n",
       "                       n_jobs=None, oob_score=False, random_state=None,\n",
       "                       verbose=0, warm_start=False)"
      ]
     },
     "execution_count": 8,
     "metadata": {},
     "output_type": "execute_result"
    }
   ],
   "source": [
    "rf_clf = RandomForestClassifier()\n",
    "rf_clf.fit(X_train, y_train)"
   ]
  },
  {
   "cell_type": "code",
   "execution_count": 9,
   "metadata": {},
   "outputs": [
    {
     "name": "stdout",
     "output_type": "stream",
     "text": [
      "Accuracy:  0.9294\n",
      "Precision: 0.7288\n",
      "Recall:    0.2891\n",
      "F1-score:  0.4139\n",
      "ROCAUC:    0.8862\n",
      "AUPRC:     0.5417\n"
     ]
    }
   ],
   "source": [
    "y_true = y_test.values\n",
    "\n",
    "y_score = rf_clf.predict_proba(X_test)\n",
    "y_pred = rf_clf.predict(X_test)\n",
    "\n",
    "evaluate(y_true, y_score[:, 1], y_pred)"
   ]
  },
  {
   "cell_type": "code",
   "execution_count": 10,
   "metadata": {},
   "outputs": [
    {
     "data": {
      "image/png": "[encoded data removed]",
      "text/plain": [
       "<Figure size 432x288 with 1 Axes>"
      ]
     },
     "metadata": {
      "needs_background": "light"
     },
     "output_type": "display_data"
    }
   ],
   "source": [
    "plot_precision_recall_curve(y_true, y_score[:, 1])"
   ]
  },
  {
   "cell_type": "code",
   "execution_count": 11,
   "metadata": {},
   "outputs": [
    {
     "data": {
      "image/png": "[encoded data removed]",
      "text/plain": [
       "<Figure size 432x288 with 1 Axes>"
      ]
     },
     "metadata": {
      "needs_background": "light"
     },
     "output_type": "display_data"
    }
   ],
   "source": [
    "plot_roc_curve(y_true, y_score[:, 1])"
   ]
  },
  {
   "cell_type": "code",
   "execution_count": 12,
   "metadata": {},
   "outputs": [
    {
     "data": {
      "text/plain": [
       "GradientBoostingClassifier(ccp_alpha=0.0, criterion='friedman_mse', init=None,\n",
       "                           learning_rate=0.1, loss='deviance', max_depth=3,\n",
       "                           max_features=None, max_leaf_nodes=None,\n",
       "                           min_impurity_decrease=0.0, min_impurity_split=None,\n",
       "                           min_samples_leaf=1, min_samples_split=2,\n",
       "                           min_weight_fraction_leaf=0.0, n_estimators=100,\n",
       "                           n_iter_no_change=None, presort='deprecated',\n",
       "                           random_state=None, subsample=1.0, tol=0.0001,\n",
       "                           validation_fraction=0.1, verbose=0,\n",
       "                           warm_start=False)"
      ]
     },
     "execution_count": 12,
     "metadata": {},
     "output_type": "execute_result"
    }
   ],
   "source": [
    "gb_clf = GradientBoostingClassifier()\n",
    "gb_clf.fit(X_train, y_train)"
   ]
  },
  {
   "cell_type": "code",
   "execution_count": 13,
   "metadata": {},
   "outputs": [
    {
     "name": "stdout",
     "output_type": "stream",
     "text": [
      "Accuracy:  0.9307\n",
      "Precision: 0.7022\n",
      "Recall:    0.3430\n",
      "F1-score:  0.4609\n",
      "ROCAUC:    0.8945\n",
      "AUPRC:     0.5631\n"
     ]
    }
   ],
   "source": [
    "y_score_gb = gb_clf.predict_proba(X_test)\n",
    "y_pred_gb = gb_clf.predict(X_test)\n",
    "\n",
    "evaluate(y_true, y_score_gb[:, 1], y_pred_gb)"
   ]
  },
  {
   "cell_type": "code",
   "execution_count": 14,
   "metadata": {},
   "outputs": [
    {
     "data": {
      "text/plain": [
       "BalancedBaggingClassifier(base_estimator=DecisionTreeClassifier(ccp_alpha=0.0,\n",
       "                                                                class_weight=None,\n",
       "                                                                criterion='gini',\n",
       "                                                                max_depth=None,\n",
       "                                                                max_features=None,\n",
       "                                                                max_leaf_nodes=None,\n",
       "                                                                min_impurity_decrease=0.0,\n",
       "                                                                min_impurity_split=None,\n",
       "                                                                min_samples_leaf=1,\n",
       "                                                                min_samples_split=2,\n",
       "                                                                min_weight_fraction_leaf=0.0,\n",
       "                                                                presort='deprecated',\n",
       "                                                                random_state=None,\n",
       "                                                                splitter='best'),\n",
       "                          bootstrap=False, bootstrap_features=False,\n",
       "                          max_features=1.0, max_samples=0.4, n_estimators=100,\n",
       "                          n_jobs=None, oob_score=False, random_state=0,\n",
       "                          replacement=False, sampling_strategy='auto',\n",
       "                          verbose=0, warm_start=False)"
      ]
     },
     "execution_count": 14,
     "metadata": {},
     "output_type": "execute_result"
    }
   ],
   "source": [
    "bbc = BalancedBaggingClassifier(base_estimator=DecisionTreeClassifier(),\n",
    "                        sampling_strategy='auto',\n",
    "                        max_samples=0.4, # 0.4, 0.5\n",
    "                        n_estimators=100, # try\n",
    "                        bootstrap=False, # try\n",
    "                        replacement=False,\n",
    "                        random_state=0)\n",
    "\n",
    "\n",
    "#Train the classifier.\n",
    "bbc.fit(X_train, y_train)"
   ]
  },
  {
   "cell_type": "code",
   "execution_count": 15,
   "metadata": {},
   "outputs": [
    {
     "name": "stdout",
     "output_type": "stream",
     "text": [
      "Accuracy:  0.7989\n",
      "Precision: 0.2751\n",
      "Recall:    0.8136\n",
      "F1-score:  0.4111\n",
      "ROCAUC:    0.8850\n",
      "AUPRC:     0.4592\n"
     ]
    }
   ],
   "source": [
    "# 0.4\n",
    "y_score_bbc = bbc.predict_proba(X_test)\n",
    "y_pred_bbc = bbc.predict(X_test)\n",
    "\n",
    "evaluate(y_true, y_score_bbc[:, 1], y_pred_bbc)"
   ]
  }
 ],
 "metadata": {
  "kernelspec": {
   "display_name": "Python 3",
   "language": "python",
   "name": "python3"
  },
  "language_info": {
   "codemirror_mode": {
    "name": "ipython",
    "version": 3
   },
   "file_extension": ".py",
   "mimetype": "text/x-python",
   "name": "python",
   "nbconvert_exporter": "python",
   "pygments_lexer": "ipython3",
   "version": "3.6.9"
  }
 },
 "nbformat": 4,
 "nbformat_minor": 4
}
