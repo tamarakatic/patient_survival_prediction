{
 "cells": [
  {
   "cell_type": "code",
   "execution_count": 1,
   "metadata": {},
   "outputs": [],
   "source": [
    "import pandas as pd\n",
    "import numpy as np\n",
    "import matplotlib.pyplot as plt\n",
    "\n",
    "from warnings import filterwarnings\n",
    "filterwarnings('ignore')\n",
    "\n",
    "from sklearn.tree import DecisionTreeClassifier\n",
    "from sklearn.linear_model import LogisticRegression\n",
    "\n",
    "from sklearn.metrics import accuracy_score\n",
    "from sklearn.metrics import precision_score\n",
    "from sklearn.metrics import recall_score\n",
    "from sklearn.metrics import roc_auc_score\n",
    "from sklearn.metrics import average_precision_score\n",
    "from sklearn.metrics import f1_score\n",
    "from sklearn.metrics import auc, roc_curve\n",
    "from sklearn.metrics import precision_recall_curve\n",
    "\n",
    "from sklearn.model_selection import train_test_split\n",
    "\n",
    "%matplotlib inline"
   ]
  },
  {
   "cell_type": "code",
   "execution_count": 2,
   "metadata": {},
   "outputs": [],
   "source": [
    "def preprocess_object_features():\n",
    "    df_tr = pd.read_csv(\"../data/raw/training_v2.csv\")\n",
    "\n",
    "    df_train = df_tr.copy()\n",
    "\n",
    "    # drop readmission_status as it has all 0\n",
    "    df_train.drop('readmission_status', axis=1, inplace=True)\n",
    "    df_train.drop('encounter_id', axis=1, inplace=True)\n",
    "    df_train.drop('patient_id', axis=1, inplace=True)\n",
    "    df_train.drop('hospital_id', axis=1, inplace=True)\n",
    "    df_train.drop('icu_id', axis=1, inplace=True)\n",
    "\n",
    "    # 25 genders are nan => replace them with 'M'\n",
    "    df_train['gender'] = df_train['gender'].fillna(df_train['gender'].value_counts().index[0])\n",
    "    df_train['gender'] = df_train['gender'].map({'M': 0, 'F': 1})\n",
    "    \n",
    "    df_train['ethnicity'] = df_train['ethnicity'].fillna(\"Other/Unknown\")\n",
    "        \n",
    "    df_train['hospital_admit_source'] = df_train['hospital_admit_source'].fillna(\"Other\")\n",
    "\n",
    "    df_train['icu_stay_type'] = df_train['icu_stay_type'].fillna(df_train['icu_stay_type'].value_counts().index[0])\n",
    "    df_train['icu_stay_type'] = df_train['icu_stay_type'].map({'admit': 0, 'transfer': 1})\n",
    "    \n",
    "    # remove outliers\n",
    "    df_train = df_train[df_train[\"pre_icu_los_days\"] < 88]\n",
    "    df_train[\"pre_icu_los_days\"] = np.maximum(0, df_train[\"pre_icu_los_days\"])\n",
    "    \n",
    "    und_diag = {\"Undefined diagnoses\": \"Undefined Diagnoses\"}\n",
    "    df_train[\"apache_2_bodysystem\"].replace(und_diag, inplace = True)\n",
    "\n",
    "    cat_columns = [\"ethnicity\", \"hospital_admit_source\",\n",
    "                   \"icu_admit_source\", \"icu_type\",\n",
    "                   \"apache_3j_bodysystem\", \"apache_2_bodysystem\"]\n",
    "\n",
    "    df_train = pd.get_dummies(df_train, columns=cat_columns)\n",
    "\n",
    "    df_train.fillna(df_train.mean(), inplace=True)\n",
    "\n",
    "    return df_train"
   ]
  },
  {
   "cell_type": "code",
   "execution_count": 3,
   "metadata": {},
   "outputs": [],
   "source": [
    "def evaluate(y_true, scores, preds):\n",
    "    acc = accuracy_score(y_true, preds)\n",
    "    precision = precision_score(y_true, preds)\n",
    "    recall = recall_score(y_true, preds)\n",
    "    f1 = f1_score(y_true, preds)\n",
    "    \n",
    "    roc_auc = roc_auc_score(y_true, scores)\n",
    "    auprc = average_precision_score(y_true, scores)\n",
    "    \n",
    "    print(\"Accuracy:  {:.3f}\".format(acc))\n",
    "    print(\"Precision: {:.3f}\".format(precision))\n",
    "    print(\"Recall:    {:.3f}\".format(recall))\n",
    "    print(\"F1-score:  {:.3f}\".format(f1))\n",
    "    print(\"ROCAUC:    {:.3f}\".format(roc_auc))\n",
    "    print(\"AUPRC:     {:.3f}\".format(auprc))"
   ]
  },
  {
   "cell_type": "code",
   "execution_count": 4,
   "metadata": {},
   "outputs": [],
   "source": [
    "def plot_roc_curve(y_test, preds):\n",
    "    fpr, tpr, threshold = roc_curve(y_test, preds)\n",
    "    roc_auc = auc(fpr, tpr)\n",
    "    \n",
    "    plt.title('Receiver Operating Characteristic')\n",
    "    plt.plot(fpr, tpr, 'b', label = 'AUC = %0.2f' % roc_auc)\n",
    "    plt.legend(loc = 'lower right')\n",
    "    plt.plot([0, 1], [0, 1],'r--')\n",
    "    plt.xlim([0, 1])\n",
    "    plt.ylim([0, 1])\n",
    "    plt.ylabel('True Positive Rate')\n",
    "    plt.xlabel('False Positive Rate')\n",
    "    plt.show()"
   ]
  },
  {
   "cell_type": "code",
   "execution_count": 5,
   "metadata": {},
   "outputs": [],
   "source": [
    "def plot_precision_recall_curve(y_test, probs):\n",
    "    precision, recall, threshold = precision_recall_curve(y_test, probs)\n",
    "    auc_score = auc(recall, precision)\n",
    "    \n",
    "    plt.title('2-class Precision-Recall curve')\n",
    "    plt.plot([0, 1], [0.5, 0.5], linestyle='--')\n",
    "    plt.plot(recall, precision, 'r', marker='.')\n",
    "    plt.show()"
   ]
  },
  {
   "cell_type": "code",
   "execution_count": 6,
   "metadata": {},
   "outputs": [],
   "source": [
    "clean_df = preprocess_object_features()\n",
    "\n",
    "y = clean_df.hospital_death\n",
    "X = clean_df.drop(columns=\"hospital_death\")\n",
    "\n",
    "X_train, X_test, y_train, y_test = train_test_split(X, y, test_size=0.33, random_state=42, stratify=y)"
   ]
  },
  {
   "cell_type": "markdown",
   "metadata": {},
   "source": [
    "## Logistic Regression"
   ]
  },
  {
   "cell_type": "code",
   "execution_count": 7,
   "metadata": {},
   "outputs": [
    {
     "data": {
      "text/plain": [
       "LogisticRegression(C=1.0, class_weight={0: 1, 1: 10}, dual=False,\n",
       "                   fit_intercept=True, intercept_scaling=1, l1_ratio=None,\n",
       "                   max_iter=2000, multi_class='auto', n_jobs=None, penalty='l2',\n",
       "                   random_state=None, solver='lbfgs', tol=0.0001, verbose=0,\n",
       "                   warm_start=False)"
      ]
     },
     "execution_count": 7,
     "metadata": {},
     "output_type": "execute_result"
    }
   ],
   "source": [
    "weights = {0:1, 1:10}\n",
    "lr_clf = LogisticRegression(solver='lbfgs', class_weight=weights, max_iter=2000)\n",
    "lr_clf.fit(X_train, y_train)"
   ]
  },
  {
   "cell_type": "code",
   "execution_count": 8,
   "metadata": {},
   "outputs": [
    {
     "name": "stdout",
     "output_type": "stream",
     "text": [
      "Accuracy:  0.816\n",
      "Precision: 0.287\n",
      "Recall:    0.763\n",
      "F1-score:  0.417\n",
      "ROCAUC:    0.880\n",
      "AUPRC:     0.495\n"
     ]
    }
   ],
   "source": [
    "y_true = y_test.values\n",
    "\n",
    "y_score = lr_clf.predict_proba(X_test)\n",
    "y_pred = lr_clf.predict(X_test)\n",
    "\n",
    "evaluate(y_true, y_score[:, 1], y_pred)"
   ]
  },
  {
   "cell_type": "code",
   "execution_count": 9,
   "metadata": {},
   "outputs": [
    {
     "data": {
      "image/png": "[encoded data removed]",
      "text/plain": [
       "<Figure size 432x288 with 1 Axes>"
      ]
     },
     "metadata": {
      "needs_background": "light"
     },
     "output_type": "display_data"
    }
   ],
   "source": [
    "plot_precision_recall_curve(y_true, y_score[:, 1])"
   ]
  },
  {
   "cell_type": "code",
   "execution_count": 10,
   "metadata": {},
   "outputs": [
    {
     "data": {
      "image/png": "[encoded data removed]",
      "text/plain": [
       "<Figure size 432x288 with 1 Axes>"
      ]
     },
     "metadata": {
      "needs_background": "light"
     },
     "output_type": "display_data"
    }
   ],
   "source": [
    "plot_roc_curve(y_true, y_score[:, 1])"
   ]
  },
  {
   "cell_type": "markdown",
   "metadata": {},
   "source": [
    "## Decision Tree"
   ]
  },
  {
   "cell_type": "code",
   "execution_count": 11,
   "metadata": {},
   "outputs": [
    {
     "data": {
      "text/plain": [
       "DecisionTreeClassifier(ccp_alpha=0.0, class_weight={0: 1, 1: 10},\n",
       "                       criterion='gini', max_depth=None, max_features=None,\n",
       "                       max_leaf_nodes=None, min_impurity_decrease=0.0,\n",
       "                       min_impurity_split=None, min_samples_leaf=1,\n",
       "                       min_samples_split=2, min_weight_fraction_leaf=0.0,\n",
       "                       presort='deprecated', random_state=None,\n",
       "                       splitter='best')"
      ]
     },
     "execution_count": 11,
     "metadata": {},
     "output_type": "execute_result"
    }
   ],
   "source": [
    "weights = {0:1, 1:10}\n",
    "dt_clf = DecisionTreeClassifier(class_weight=weights)\n",
    "dt_clf.fit(X_train, y_train)"
   ]
  },
  {
   "cell_type": "code",
   "execution_count": 12,
   "metadata": {},
   "outputs": [
    {
     "name": "stdout",
     "output_type": "stream",
     "text": [
      "Accuracy:  0.879\n",
      "Precision: 0.303\n",
      "Recall:    0.308\n",
      "F1-score:  0.306\n",
      "ROCAUC:    0.621\n",
      "AUPRC:     0.153\n"
     ]
    }
   ],
   "source": [
    "y_true = y_test.values\n",
    "\n",
    "y_score = dt_clf.predict_proba(X_test)\n",
    "y_pred = dt_clf.predict(X_test)\n",
    "\n",
    "evaluate(y_true, y_score[:, 1], y_pred)"
   ]
  },
  {
   "cell_type": "code",
   "execution_count": 13,
   "metadata": {},
   "outputs": [
    {
     "data": {
      "image/png": "[encoded data removed]",
      "text/plain": [
       "<Figure size 432x288 with 1 Axes>"
      ]
     },
     "metadata": {
      "needs_background": "light"
     },
     "output_type": "display_data"
    }
   ],
   "source": [
    "plot_precision_recall_curve(y_true, y_score[:, 1])"
   ]
  },
  {
   "cell_type": "code",
   "execution_count": 14,
   "metadata": {},
   "outputs": [
    {
     "data": {
      "image/png": "[encoded data removed]",
      "text/plain": [
       "<Figure size 432x288 with 1 Axes>"
      ]
     },
     "metadata": {
      "needs_background": "light"
     },
     "output_type": "display_data"
    }
   ],
   "source": [
    "plot_roc_curve(y_true, y_score[:, 1])"
   ]
  }
 ],
 "metadata": {
  "kernelspec": {
   "display_name": "Python 3",
   "language": "python",
   "name": "python3"
  },
  "language_info": {
   "codemirror_mode": {
    "name": "ipython",
    "version": 3
   },
   "file_extension": ".py",
   "mimetype": "text/x-python",
   "name": "python",
   "nbconvert_exporter": "python",
   "pygments_lexer": "ipython3",
   "version": "3.6.9"
  }
 },
 "nbformat": 4,
 "nbformat_minor": 4
}
