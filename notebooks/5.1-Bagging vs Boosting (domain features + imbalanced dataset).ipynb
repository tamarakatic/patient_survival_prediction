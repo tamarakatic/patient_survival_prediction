{
 "cells": [
  {
   "cell_type": "code",
   "execution_count": 1,
   "metadata": {},
   "outputs": [],
   "source": [
    "import pandas as pd\n",
    "import numpy as np\n",
    "import matplotlib.pyplot as plt\n",
    "\n",
    "from sklearn.tree import DecisionTreeClassifier\n",
    "from sklearn.ensemble import RandomForestClassifier\n",
    "from sklearn.ensemble import BaggingClassifier\n",
    "from sklearn.ensemble import GradientBoostingClassifier\n",
    "\n",
    "\n",
    "from sklearn.preprocessing import MinMaxScaler\n",
    "\n",
    "from sklearn.metrics import accuracy_score\n",
    "from sklearn.metrics import precision_score\n",
    "from sklearn.metrics import recall_score\n",
    "from sklearn.metrics import roc_auc_score\n",
    "from sklearn.metrics import average_precision_score\n",
    "from sklearn.metrics import f1_score\n",
    "from sklearn.metrics import auc, roc_curve\n",
    "from sklearn.metrics import precision_recall_curve\n",
    "\n",
    "from sklearn.model_selection import train_test_split\n",
    "\n",
    "%matplotlib inline"
   ]
  },
  {
   "cell_type": "code",
   "execution_count": 2,
   "metadata": {},
   "outputs": [],
   "source": [
    "df = pd.read_csv('../data/raw/training_v2.csv')"
   ]
  },
  {
   "cell_type": "code",
   "execution_count": 3,
   "metadata": {},
   "outputs": [],
   "source": [
    "# drop columns with id (don't have an influence on the model)\n",
    "df.drop('encounter_id', axis=1, inplace=True)\n",
    "df.drop('patient_id', axis=1, inplace=True)\n",
    "df.drop('hospital_id', axis=1, inplace=True)\n",
    "df.drop('icu_id', axis=1, inplace=True)"
   ]
  },
  {
   "cell_type": "code",
   "execution_count": 4,
   "metadata": {},
   "outputs": [],
   "source": [
    "col_list = []\n",
    "with open(\"../data/raw/del_columns.txt\", \"r\") as f:\n",
    "    for line in f:\n",
    "        col_list.append(line[:-1])\n",
    "        \n",
    "df.drop(columns=col_list, inplace=True, axis=1)"
   ]
  },
  {
   "cell_type": "code",
   "execution_count": 5,
   "metadata": {},
   "outputs": [],
   "source": [
    "def preprocess_features(df):\n",
    "    # 25 genders are nan => replace them with 'M'\n",
    "    df['gender'] = df['gender'].fillna(df['gender'].value_counts().index[0])\n",
    "    df['gender'] = df['gender'].map({'M': 0, 'F': 1})\n",
    "    \n",
    "    df['ethnicity'] = df['ethnicity'].fillna(\"Other/Unknown\")\n",
    "    \n",
    "    und_diag = {\"Undefined diagnoses\": \"Undefined Diagnoses\"}\n",
    "    df[\"apache_2_bodysystem\"].replace(und_diag, inplace = True)\n",
    "    \n",
    "    df[\"age\"].fillna(int(df[\"age\"].mean()), inplace=True)\n",
    "    d = {range(1, 50): 1, range(50, 65): 2, range(65, 75): 3, range(75, 100): 4}\n",
    "    df[\"age\"] = df[\"age\"].apply(lambda x: next((v for k, v in d.items() if x in k), 0))\n",
    "    \n",
    "    df.dropna(subset=['heart_rate_apache', 'temp_apache'], inplace=True)\n",
    "    \n",
    "    d1 = {range(25, 80): 1, range(80, 120): 2, range(120, 150): 3, range(150, 180): 4, range(180, 200): 5}\n",
    "    df[\"heart_rate_apache\"] = df[\"heart_rate_apache\"].apply(lambda x: next((v for k, v in d1.items() if x in k), 0))\n",
    "\n",
    "    df = pd.get_dummies(df, columns=[\"age\", \"heart_rate_apache\"])\n",
    "    \n",
    "    d2 = {range(int(df[\"temp_apache\"].min()), 37): 0, range(37, int(df[\"temp_apache\"].max())+1): 1}\n",
    "    df[\"temp_apache\"] = df[\"temp_apache\"].apply(lambda x: next((v for k, v in d2.items() if x in k), 0))\n",
    "    \n",
    "    df[\"urineoutput_apache\"].fillna(df[\"urineoutput_apache\"].mean(), inplace=True)\n",
    "    \n",
    "    # normalize urineoutput_apache\n",
    "    x = df[['urineoutput_apache']].values.astype(float)\n",
    "    min_max_scaler = MinMaxScaler()\n",
    "    x_scaled = min_max_scaler.fit_transform(x)\n",
    "    df[\"urineoutput_apache\"] = x_scaled\n",
    "    \n",
    "    print(df.shape)\n",
    "    \n",
    "    cat_columns = [\"ethnicity\",\n",
    "                   \"apache_3j_bodysystem\", \n",
    "                   \"apache_2_bodysystem\"]\n",
    "\n",
    "    df = pd.get_dummies(df, columns=cat_columns)\n",
    "\n",
    "    df.fillna(df.mean(), inplace=True)\n",
    "\n",
    "    return df"
   ]
  },
  {
   "cell_type": "code",
   "execution_count": 6,
   "metadata": {},
   "outputs": [],
   "source": [
    "def evaluate(y_true, scores, preds):\n",
    "    acc = accuracy_score(y_true, preds)\n",
    "    precision = precision_score(y_true, preds)\n",
    "    recall = recall_score(y_true, preds)\n",
    "    f1 = f1_score(y_true, preds)\n",
    "    \n",
    "    roc_auc = roc_auc_score(y_true, scores)\n",
    "    auprc = average_precision_score(y_true, scores)\n",
    "    \n",
    "    print(\"Accuracy:  {:.4f}\".format(acc))\n",
    "    print(\"Precision: {:.4f}\".format(precision))\n",
    "    print(\"Recall:    {:.4f}\".format(recall))\n",
    "    print(\"F1-score:  {:.4f}\".format(f1))\n",
    "    print(\"ROCAUC:    {:.4f}\".format(roc_auc))\n",
    "    print(\"AUPRC:     {:.4f}\".format(auprc))"
   ]
  },
  {
   "cell_type": "code",
   "execution_count": 7,
   "metadata": {},
   "outputs": [],
   "source": [
    "def plot_roc_curve(y_test, preds):\n",
    "    fpr, tpr, threshold = roc_curve(y_test, preds)\n",
    "    roc_auc = auc(fpr, tpr)\n",
    "    \n",
    "    plt.title('Receiver Operating Characteristic')\n",
    "    plt.plot(fpr, tpr, 'b', label = 'AUC = %0.2f' % roc_auc)\n",
    "    plt.legend(loc = 'lower right')\n",
    "    plt.plot([0, 1], [0, 1],'r--')\n",
    "    plt.xlim([0, 1])\n",
    "    plt.ylim([0, 1])\n",
    "    plt.ylabel('True Positive Rate')\n",
    "    plt.xlabel('False Positive Rate')\n",
    "    plt.show()"
   ]
  },
  {
   "cell_type": "code",
   "execution_count": 8,
   "metadata": {},
   "outputs": [],
   "source": [
    "def plot_precision_recall_curve(y_test, probs):\n",
    "    precision, recall, threshold = precision_recall_curve(y_test, probs)\n",
    "    auc_score = auc(recall, precision)\n",
    "    \n",
    "    plt.title('2-class Precision-Recall curve')\n",
    "    plt.plot([0, 1], [0.5, 0.5], linestyle='--')\n",
    "    plt.plot(recall, precision, 'r', marker='.')\n",
    "    plt.show()"
   ]
  },
  {
   "cell_type": "code",
   "execution_count": 9,
   "metadata": {},
   "outputs": [
    {
     "name": "stdout",
     "output_type": "stream",
     "text": [
      "(87554, 99)\n"
     ]
    }
   ],
   "source": [
    "clean_df = preprocess_features(df)"
   ]
  },
  {
   "cell_type": "code",
   "execution_count": 10,
   "metadata": {},
   "outputs": [],
   "source": [
    "y = clean_df.hospital_death\n",
    "X = clean_df.drop(columns=\"hospital_death\")\n",
    "\n",
    "X_train, X_test, y_train, y_test = train_test_split(X, y, test_size=0.33, random_state=42, stratify=y)"
   ]
  },
  {
   "cell_type": "code",
   "execution_count": 11,
   "metadata": {},
   "outputs": [
    {
     "data": {
      "text/plain": [
       "RandomForestClassifier(bootstrap=True, ccp_alpha=0.0, class_weight=None,\n",
       "                       criterion='gini', max_depth=None, max_features='auto',\n",
       "                       max_leaf_nodes=None, max_samples=None,\n",
       "                       min_impurity_decrease=0.0, min_impurity_split=None,\n",
       "                       min_samples_leaf=1, min_samples_split=2,\n",
       "                       min_weight_fraction_leaf=0.0, n_estimators=100,\n",
       "                       n_jobs=None, oob_score=False, random_state=None,\n",
       "                       verbose=0, warm_start=False)"
      ]
     },
     "execution_count": 11,
     "metadata": {},
     "output_type": "execute_result"
    }
   ],
   "source": [
    "rf_clf = RandomForestClassifier()\n",
    "rf_clf.fit(X_train, y_train)"
   ]
  },
  {
   "cell_type": "code",
   "execution_count": 12,
   "metadata": {},
   "outputs": [
    {
     "name": "stdout",
     "output_type": "stream",
     "text": [
      "Accuracy:  0.9303\n",
      "Precision: 0.7234\n",
      "Recall:    0.2748\n",
      "F1-score:  0.3983\n",
      "ROCAUC:    0.8769\n",
      "AUPRC:     0.5092\n"
     ]
    }
   ],
   "source": [
    "y_true = y_test.values\n",
    "\n",
    "y_score = rf_clf.predict_proba(X_test)\n",
    "y_pred = rf_clf.predict(X_test)\n",
    "\n",
    "evaluate(y_true, y_score[:, 1], y_pred)"
   ]
  },
  {
   "cell_type": "code",
   "execution_count": 13,
   "metadata": {},
   "outputs": [
    {
     "data": {
      "image/png": "[encoded data removed]",
      "text/plain": [
       "<Figure size 432x288 with 1 Axes>"
      ]
     },
     "metadata": {
      "needs_background": "light"
     },
     "output_type": "display_data"
    }
   ],
   "source": [
    "plot_precision_recall_curve(y_true, y_score[:, 1])"
   ]
  },
  {
   "cell_type": "code",
   "execution_count": 14,
   "metadata": {},
   "outputs": [
    {
     "data": {
      "image/png": "[encoded data removed]",
      "text/plain": [
       "<Figure size 432x288 with 1 Axes>"
      ]
     },
     "metadata": {
      "needs_background": "light"
     },
     "output_type": "display_data"
    }
   ],
   "source": [
    "plot_roc_curve(y_true, y_score[:, 1])"
   ]
  },
  {
   "cell_type": "code",
   "execution_count": 20,
   "metadata": {},
   "outputs": [
    {
     "data": {
      "text/plain": [
       "BaggingClassifier(base_estimator=DecisionTreeClassifier(ccp_alpha=0.0,\n",
       "                                                        class_weight=None,\n",
       "                                                        criterion='gini',\n",
       "                                                        max_depth=None,\n",
       "                                                        max_features=None,\n",
       "                                                        max_leaf_nodes=None,\n",
       "                                                        min_impurity_decrease=0.0,\n",
       "                                                        min_impurity_split=None,\n",
       "                                                        min_samples_leaf=1,\n",
       "                                                        min_samples_split=2,\n",
       "                                                        min_weight_fraction_leaf=0.0,\n",
       "                                                        presort='deprecated',\n",
       "                                                        random_state=None,\n",
       "                                                        splitter='best'),\n",
       "                  bootstrap=False, bootstrap_features=False, max_features=1.0,\n",
       "                  max_samples=0.4, n_estimators=100, n_jobs=None,\n",
       "                  oob_score=False, random_state=0, verbose=0, warm_start=False)"
      ]
     },
     "execution_count": 20,
     "metadata": {},
     "output_type": "execute_result"
    }
   ],
   "source": [
    "bbc = BaggingClassifier(base_estimator=DecisionTreeClassifier(),\n",
    "                        max_samples=0.4, # 0.4, 0.5\n",
    "                        n_estimators=100, # try\n",
    "                        bootstrap=False,\n",
    "                        random_state=0)\n",
    "\n",
    "\n",
    "#Train the classifier.\n",
    "bbc.fit(X_train, y_train)"
   ]
  },
  {
   "cell_type": "code",
   "execution_count": 21,
   "metadata": {},
   "outputs": [
    {
     "name": "stdout",
     "output_type": "stream",
     "text": [
      "Accuracy:  0.9295\n",
      "Precision: 0.6769\n",
      "Recall:    0.3082\n",
      "F1-score:  0.4236\n",
      "ROCAUC:    0.8677\n",
      "AUPRC:     0.4956\n"
     ]
    }
   ],
   "source": [
    "# 0.4\n",
    "y_score_bbc = bbc.predict_proba(X_test)\n",
    "y_pred_bbc = bbc.predict(X_test)\n",
    "\n",
    "evaluate(y_true, y_score_bbc[:, 1], y_pred_bbc)"
   ]
  },
  {
   "cell_type": "code",
   "execution_count": 17,
   "metadata": {},
   "outputs": [
    {
     "data": {
      "text/plain": [
       "GradientBoostingClassifier(ccp_alpha=0.0, criterion='friedman_mse', init=None,\n",
       "                           learning_rate=0.1, loss='deviance', max_depth=3,\n",
       "                           max_features=None, max_leaf_nodes=None,\n",
       "                           min_impurity_decrease=0.0, min_impurity_split=None,\n",
       "                           min_samples_leaf=1, min_samples_split=2,\n",
       "                           min_weight_fraction_leaf=0.0, n_estimators=100,\n",
       "                           n_iter_no_change=None, presort='deprecated',\n",
       "                           random_state=None, subsample=1.0, tol=0.0001,\n",
       "                           validation_fraction=0.1, verbose=0,\n",
       "                           warm_start=False)"
      ]
     },
     "execution_count": 17,
     "metadata": {},
     "output_type": "execute_result"
    }
   ],
   "source": [
    "gb_clf = GradientBoostingClassifier()\n",
    "gb_clf.fit(X_train, y_train)"
   ]
  },
  {
   "cell_type": "code",
   "execution_count": 18,
   "metadata": {},
   "outputs": [
    {
     "name": "stdout",
     "output_type": "stream",
     "text": [
      "Accuracy:  0.9297\n",
      "Precision: 0.6833\n",
      "Recall:    0.3049\n",
      "F1-score:  0.4217\n",
      "ROCAUC:    0.8865\n",
      "AUPRC:     0.5206\n"
     ]
    }
   ],
   "source": [
    "y_score_gb = gb_clf.predict_proba(X_test)\n",
    "y_pred_gb = gb_clf.predict(X_test)\n",
    "\n",
    "evaluate(y_true, y_score_gb[:, 1], y_pred_gb)"
   ]
  }
 ],
 "metadata": {
  "kernelspec": {
   "display_name": "Python 3",
   "language": "python",
   "name": "python3"
  },
  "language_info": {
   "codemirror_mode": {
    "name": "ipython",
    "version": 3
   },
   "file_extension": ".py",
   "mimetype": "text/x-python",
   "name": "python",
   "nbconvert_exporter": "python",
   "pygments_lexer": "ipython3",
   "version": "3.6.9"
  }
 },
 "nbformat": 4,
 "nbformat_minor": 4
}
